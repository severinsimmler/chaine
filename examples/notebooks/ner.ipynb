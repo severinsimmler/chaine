{
 "cells": [
  {
   "cell_type": "markdown",
   "id": "6007d4cb-6917-47e8-9a35-faf74ceca728",
   "metadata": {},
   "source": [
    "# Named entity recognition with `chaine`"
   ]
  },
  {
   "cell_type": "code",
   "execution_count": 1,
   "id": "c536b91a-0d4f-498b-8f80-d19c35869efb",
   "metadata": {},
   "outputs": [],
   "source": [
    "import datasets\n",
    "import pandas as pd\n",
    "from seqeval.metrics import classification_report\n",
    "\n",
    "import chaine\n",
    "from chaine.typing import Dataset, Features, Sentence, Tags"
   ]
  },
  {
   "cell_type": "markdown",
   "id": "8aa1d270-1363-4743-ae2b-aa38d74fa11b",
   "metadata": {},
   "source": [
    "## Data"
   ]
  },
  {
   "cell_type": "code",
   "execution_count": 2,
   "id": "6726588b-57a0-4996-9d4c-6a0856826f0b",
   "metadata": {},
   "outputs": [
    {
     "name": "stderr",
     "output_type": "stream",
     "text": [
      "Reusing dataset conll2003 (/home/severin/.cache/huggingface/datasets/conll2003/conll2003/1.0.0/63f4ebd1bcb7148b1644497336fd74643d4ce70123334431a3c053b7ee4e96ee)\n"
     ]
    },
    {
     "data": {
      "application/vnd.jupyter.widget-view+json": {
       "model_id": "93c460bf8bf246d19c8993409dd172f5",
       "version_major": 2,
       "version_minor": 0
      },
      "text/plain": [
       "  0%|          | 0/3 [00:00<?, ?it/s]"
      ]
     },
     "metadata": {},
     "output_type": "display_data"
    },
    {
     "name": "stdout",
     "output_type": "stream",
     "text": [
      "Number of sentences for training: 14042\n",
      "Number of sentences for evaluation: 3454\n"
     ]
    }
   ],
   "source": [
    "dataset = datasets.load_dataset(\"conll2003\")\n",
    "\n",
    "print(f\"Number of sentences for training: {len(dataset['train']['tokens'])}\")\n",
    "print(f\"Number of sentences for evaluation: {len(dataset['test']['tokens'])}\")"
   ]
  },
  {
   "cell_type": "markdown",
   "id": "e215fd6d-317b-4203-ba73-74cbb96f3feb",
   "metadata": {},
   "source": [
    "## Featurization"
   ]
  },
  {
   "cell_type": "code",
   "execution_count": 3,
   "id": "7b6b9eab-3928-4a8e-8cfa-03e8646b3156",
   "metadata": {},
   "outputs": [],
   "source": [
    "def featurize_token(token_index: int, sentence: Sentence, pos_tags: Tags) -> Features:\n",
    "    \"\"\"Extract features from a token in a sentence.\n",
    "\n",
    "    Parameters\n",
    "    ----------\n",
    "    token_index : int\n",
    "        Index of the token to featurize in the sentence.\n",
    "    sentence : Sentence\n",
    "        Sequence of tokens.\n",
    "    pos_tags : Tags\n",
    "        Sequence of part-of-speech tags corresponding to the tokens in the sentence.\n",
    "\n",
    "    Returns\n",
    "    -------\n",
    "    Features\n",
    "        Features representing the token.\n",
    "    \"\"\"\n",
    "    token = sentence[token_index]\n",
    "    pos_tag = pos_tags[token_index]\n",
    "    features = {\n",
    "        \"token.lower()\": token.lower(),\n",
    "        \"token[-3:]\": token[-3:],\n",
    "        \"token[-2:]\": token[-2:],\n",
    "        \"token.isupper()\": token.isupper(),\n",
    "        \"token.istitle()\": token.istitle(),\n",
    "        \"token.isdigit()\": token.isdigit(),\n",
    "        \"pos_tag\": pos_tag,\n",
    "    }\n",
    "    if token_index > 0:\n",
    "        previous_token = sentence[token_index - 1]\n",
    "        previous_pos_tag = pos_tags[token_index - 1]\n",
    "        features.update(\n",
    "            {\n",
    "                \"-1:token.lower()\": previous_token.lower(),\n",
    "                \"-1:token.istitle()\": previous_token.istitle(),\n",
    "                \"-1:token.isupper()\": previous_token.isupper(),\n",
    "                \"-1:pos_tag\": previous_pos_tag,\n",
    "            }\n",
    "        )\n",
    "    else:\n",
    "        features[\"BOS\"] = True\n",
    "    if token_index < len(sentence) - 1:\n",
    "        next_token = sentence[token_index + 1]\n",
    "        next_pos_tag = pos_tags[token_index + 1]\n",
    "        features.update(\n",
    "            {\n",
    "                \"+1:token.lower()\": next_token.lower(),\n",
    "                \"+1:token.istitle()\": next_token.istitle(),\n",
    "                \"+1:token.isupper()\": next_token.isupper(),\n",
    "                \"+1:pos_tag\": next_pos_tag,\n",
    "            }\n",
    "        )\n",
    "    else:\n",
    "        features[\"EOS\"] = True\n",
    "    return features\n",
    "\n",
    "\n",
    "def featurize_sentence(sentence: Sentence, pos_tags: Tags) -> list[Features]:\n",
    "    \"\"\"Extract features from tokens in a sentence.\n",
    "\n",
    "    Parameters\n",
    "    ----------\n",
    "    sentence : Sentence\n",
    "        Sequence of tokens.\n",
    "    pos_tags : Tags\n",
    "        Sequence of part-of-speech tags corresponding to the tokens in the sentence.\n",
    "\n",
    "    Returns\n",
    "    -------\n",
    "    list[Features]\n",
    "        List of features representing tokens of a sentence.\n",
    "    \"\"\"\n",
    "    return [\n",
    "        featurize_token(token_index, sentence, pos_tags) for token_index in range(len(sentence))\n",
    "    ]\n",
    "\n",
    "\n",
    "def featurize_dataset(dataset: Dataset) -> list[list[Features]]:\n",
    "    \"\"\"Extract features from sentences in a dataset.\n",
    "\n",
    "    Parameters\n",
    "    ----------\n",
    "    dataset : Dataset\n",
    "        Dataset to featurize.\n",
    "\n",
    "    Returns\n",
    "    -------\n",
    "    list[list[Features]]\n",
    "        Featurized dataset.\n",
    "    \"\"\"\n",
    "    return [\n",
    "        featurize_sentence(sentence, pos_tags)\n",
    "        for sentence, pos_tags in zip(dataset[\"tokens\"], dataset[\"pos_tags\"])\n",
    "    ]\n",
    "\n",
    "\n",
    "def preprocess_labels(dataset: Dataset) -> list[list[str]]:\n",
    "    \"\"\"Translate raw labels (i.e. integers) to the respective string labels.\n",
    "\n",
    "    Parameters\n",
    "    ----------\n",
    "    dataset : Dataset\n",
    "        Dataset to preprocess labels.\n",
    "\n",
    "    Returns\n",
    "    -------\n",
    "    list[list[Features]]\n",
    "        Preprocessed labels.\n",
    "    \"\"\"\n",
    "    labels = dataset.features[\"ner_tags\"].feature.names\n",
    "    return [[labels[index] for index in indices] for indices in dataset[\"ner_tags\"]]"
   ]
  },
  {
   "cell_type": "code",
   "execution_count": 4,
   "id": "d520c53c-f8be-48a1-8484-1fafe81ad9a2",
   "metadata": {},
   "outputs": [],
   "source": [
    "sentences = featurize_dataset(dataset[\"train\"])\n",
    "labels = preprocess_labels(dataset[\"train\"])"
   ]
  },
  {
   "cell_type": "markdown",
   "id": "d957af6e-ed83-4d55-90de-522c94151814",
   "metadata": {},
   "source": [
    "## Training"
   ]
  },
  {
   "cell_type": "code",
   "execution_count": 7,
   "id": "f3c91063-ca98-4685-8dcb-c30c637efc4a",
   "metadata": {},
   "outputs": [],
   "source": [
    "model = chaine.train(sentences, labels, verbose=0)"
   ]
  },
  {
   "cell_type": "markdown",
   "id": "bf8fdc83-8a8e-4eaa-b4f1-0395194db40a",
   "metadata": {},
   "source": [
    "## Evaluation"
   ]
  },
  {
   "cell_type": "code",
   "execution_count": 8,
   "id": "a8c20257-3212-41bd-8018-b342b335acce",
   "metadata": {},
   "outputs": [],
   "source": [
    "sentences = featurize_dataset(dataset[\"test\"])\n",
    "labels = preprocess_labels(dataset[\"test\"])"
   ]
  },
  {
   "cell_type": "code",
   "execution_count": 9,
   "id": "a0309332-684d-460e-866a-92438ef5fb7f",
   "metadata": {},
   "outputs": [
    {
     "name": "stdout",
     "output_type": "stream",
     "text": [
      "              precision    recall  f1-score   support\n",
      "\n",
      "         LOC       0.67      0.65      0.66      1668\n",
      "        MISC       0.72      0.50      0.59       702\n",
      "         ORG       0.67      0.34      0.45      1661\n",
      "         PER       0.71      0.66      0.69      1617\n",
      "\n",
      "   micro avg       0.69      0.54      0.61      5648\n",
      "   macro avg       0.70      0.54      0.60      5648\n",
      "weighted avg       0.69      0.54      0.60      5648\n",
      "\n"
     ]
    }
   ],
   "source": [
    "predictions = model.predict(sentences)\n",
    "\n",
    "print(classification_report(labels, predictions))"
   ]
  },
  {
   "cell_type": "markdown",
   "id": "cfb319d4-9ce6-4a74-9792-17b8ae131c1e",
   "metadata": {},
   "source": [
    "## Optimization"
   ]
  },
  {
   "cell_type": "code",
   "execution_count": null,
   "id": "1569a1f1-212c-4fc2-b8d3-b601b5aea88c",
   "metadata": {},
   "outputs": [],
   "source": [
    "model = chaine.train(sentences, labels, verbose=0, optimize_hyperparameters=True)"
   ]
  },
  {
   "cell_type": "code",
   "execution_count": null,
   "id": "c409a14e-143d-4843-9b99-d4002e4e999b",
   "metadata": {},
   "outputs": [],
   "source": [
    "predictions = model.predict(sentences)\n",
    "\n",
    "print(classification_report(labels, predictions))"
   ]
  },
  {
   "cell_type": "markdown",
   "id": "7a80185a-1546-463a-9795-f49bb43a2ba5",
   "metadata": {},
   "source": [
    "## Inspection"
   ]
  },
  {
   "cell_type": "code",
   "execution_count": null,
   "id": "47c4eebc-d32d-4a5c-a452-caaff999a8b4",
   "metadata": {},
   "outputs": [],
   "source": [
    "transitions = pd.DataFrame(model.transitions)\n",
    "transitions.sort_values(\"weight\", ascending=False)[:10]"
   ]
  },
  {
   "cell_type": "code",
   "execution_count": null,
   "id": "981bdfd2-65d5-4c2f-a3ba-6e351118d246",
   "metadata": {},
   "outputs": [],
   "source": [
    "states = pd.DataFrame(model.states)\n",
    "states.sort_values(\"weight\", ascending=False)[:10]"
   ]
  }
 ],
 "metadata": {
  "kernelspec": {
   "display_name": "Python 3 (ipykernel)",
   "language": "python",
   "name": "python3"
  },
  "language_info": {
   "codemirror_mode": {
    "name": "ipython",
    "version": 3
   },
   "file_extension": ".py",
   "mimetype": "text/x-python",
   "name": "python",
   "nbconvert_exporter": "python",
   "pygments_lexer": "ipython3",
   "version": "3.9.6"
  }
 },
 "nbformat": 4,
 "nbformat_minor": 5
}
