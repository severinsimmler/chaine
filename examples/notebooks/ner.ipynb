{
 "cells": [
  {
   "cell_type": "markdown",
   "id": "6007d4cb-6917-47e8-9a35-faf74ceca728",
   "metadata": {},
   "source": [
    "# Named Entity Recognition with `chaine`"
   ]
  },
  {
   "cell_type": "code",
   "execution_count": 1,
   "id": "c536b91a-0d4f-498b-8f80-d19c35869efb",
   "metadata": {},
   "outputs": [],
   "source": [
    "import datasets\n",
    "import pandas as pd\n",
    "from seqeval.metrics import classification_report\n",
    "\n",
    "import chaine\n",
    "from chaine.typing import Dataset, Features, Sentence, Tags"
   ]
  },
  {
   "cell_type": "markdown",
   "id": "8aa1d270-1363-4743-ae2b-aa38d74fa11b",
   "metadata": {},
   "source": [
    "## Data"
   ]
  },
  {
   "cell_type": "code",
   "execution_count": 2,
   "id": "6726588b-57a0-4996-9d4c-6a0856826f0b",
   "metadata": {},
   "outputs": [
    {
     "data": {
      "application/vnd.jupyter.widget-view+json": {
       "model_id": "46e78394db0a4ba69e53f62a858a8dd7",
       "version_major": 2,
       "version_minor": 0
      },
      "text/plain": [
       "Downloading builder script:   0%|          | 0.00/2.58k [00:00<?, ?B/s]"
      ]
     },
     "metadata": {},
     "output_type": "display_data"
    },
    {
     "data": {
      "application/vnd.jupyter.widget-view+json": {
       "model_id": "d95b887a32134aa19c25d6797d9ee489",
       "version_major": 2,
       "version_minor": 0
      },
      "text/plain": [
       "Downloading metadata:   0%|          | 0.00/1.62k [00:00<?, ?B/s]"
      ]
     },
     "metadata": {},
     "output_type": "display_data"
    },
    {
     "name": "stderr",
     "output_type": "stream",
     "text": [
      "Reusing dataset conll2003 (/home/severin/.cache/huggingface/datasets/conll2003/conll2003/1.0.0/63f4ebd1bcb7148b1644497336fd74643d4ce70123334431a3c053b7ee4e96ee)\n"
     ]
    },
    {
     "data": {
      "application/vnd.jupyter.widget-view+json": {
       "model_id": "1b0e5b8adfe64fb09800b45435158fc2",
       "version_major": 2,
       "version_minor": 0
      },
      "text/plain": [
       "  0%|          | 0/3 [00:00<?, ?it/s]"
      ]
     },
     "metadata": {},
     "output_type": "display_data"
    },
    {
     "name": "stdout",
     "output_type": "stream",
     "text": [
      "Number of sentences for training: 14042\n",
      "Number of sentences for evaluation: 3454\n"
     ]
    }
   ],
   "source": [
    "dataset = datasets.load_dataset(\"conll2003\")\n",
    "\n",
    "print(f\"Number of sentences for training: {len(dataset['train']['tokens'])}\")\n",
    "print(f\"Number of sentences for evaluation: {len(dataset['test']['tokens'])}\")"
   ]
  },
  {
   "cell_type": "markdown",
   "id": "e215fd6d-317b-4203-ba73-74cbb96f3feb",
   "metadata": {},
   "source": [
    "## Featurization"
   ]
  },
  {
   "cell_type": "code",
   "execution_count": 3,
   "id": "7b6b9eab-3928-4a8e-8cfa-03e8646b3156",
   "metadata": {},
   "outputs": [],
   "source": [
    "def featurize_token(token_index: int, sentence: Sentence, pos_tags: Tags) -> Features:\n",
    "    \"\"\"Extract features from a token in a sentence.\n",
    "\n",
    "    Parameters\n",
    "    ----------\n",
    "    token_index : int\n",
    "        Index of the token to featurize in the sentence.\n",
    "    sentence : Sentence\n",
    "        Sequence of tokens.\n",
    "    pos_tags : Tags\n",
    "        Sequence of part-of-speech tags corresponding to the tokens in the sentence.\n",
    "\n",
    "    Returns\n",
    "    -------\n",
    "    Features\n",
    "        Features representing the token.\n",
    "    \"\"\"\n",
    "    token = sentence[token_index]\n",
    "    pos_tag = pos_tags[token_index]\n",
    "    features = {\n",
    "        \"token.lower()\": token.lower(),\n",
    "        \"token[-3:]\": token[-3:],\n",
    "        \"token[-2:]\": token[-2:],\n",
    "        \"token.isupper()\": token.isupper(),\n",
    "        \"token.istitle()\": token.istitle(),\n",
    "        \"token.isdigit()\": token.isdigit(),\n",
    "        \"pos_tag\": pos_tag,\n",
    "    }\n",
    "    if token_index > 0:\n",
    "        previous_token = sentence[token_index - 1]\n",
    "        previous_pos_tag = pos_tags[token_index - 1]\n",
    "        features.update(\n",
    "            {\n",
    "                \"-1:token.lower()\": previous_token.lower(),\n",
    "                \"-1:token.istitle()\": previous_token.istitle(),\n",
    "                \"-1:token.isupper()\": previous_token.isupper(),\n",
    "                \"-1:pos_tag\": previous_pos_tag,\n",
    "            }\n",
    "        )\n",
    "    else:\n",
    "        features[\"BOS\"] = True\n",
    "    if token_index < len(sentence) - 1:\n",
    "        next_token = sentence[token_index + 1]\n",
    "        next_pos_tag = pos_tags[token_index + 1]\n",
    "        features.update(\n",
    "            {\n",
    "                \"+1:token.lower()\": next_token.lower(),\n",
    "                \"+1:token.istitle()\": next_token.istitle(),\n",
    "                \"+1:token.isupper()\": next_token.isupper(),\n",
    "                \"+1:pos_tag\": next_pos_tag,\n",
    "            }\n",
    "        )\n",
    "    else:\n",
    "        features[\"EOS\"] = True\n",
    "    return features\n",
    "\n",
    "\n",
    "def featurize_sentence(sentence: Sentence, pos_tags: Tags) -> list[Features]:\n",
    "    \"\"\"Extract features from tokens in a sentence.\n",
    "\n",
    "    Parameters\n",
    "    ----------\n",
    "    sentence : Sentence\n",
    "        Sequence of tokens.\n",
    "    pos_tags : Tags\n",
    "        Sequence of part-of-speech tags corresponding to the tokens in the sentence.\n",
    "\n",
    "    Returns\n",
    "    -------\n",
    "    list[Features]\n",
    "        List of features representing tokens of a sentence.\n",
    "    \"\"\"\n",
    "    return [\n",
    "        featurize_token(token_index, sentence, pos_tags) for token_index in range(len(sentence))\n",
    "    ]\n",
    "\n",
    "\n",
    "def featurize_dataset(dataset: Dataset) -> list[list[Features]]:\n",
    "    \"\"\"Extract features from sentences in a dataset.\n",
    "\n",
    "    Parameters\n",
    "    ----------\n",
    "    dataset : Dataset\n",
    "        Dataset to featurize.\n",
    "\n",
    "    Returns\n",
    "    -------\n",
    "    list[list[Features]]\n",
    "        Featurized dataset.\n",
    "    \"\"\"\n",
    "    return [\n",
    "        featurize_sentence(sentence, pos_tags)\n",
    "        for sentence, pos_tags in zip(dataset[\"tokens\"], dataset[\"pos_tags\"])\n",
    "    ]\n",
    "\n",
    "\n",
    "def preprocess_labels(dataset: Dataset) -> list[list[str]]:\n",
    "    \"\"\"Translate raw labels (i.e. integers) to the respective string labels.\n",
    "\n",
    "    Parameters\n",
    "    ----------\n",
    "    dataset : Dataset\n",
    "        Dataset to preprocess labels.\n",
    "\n",
    "    Returns\n",
    "    -------\n",
    "    list[list[Features]]\n",
    "        Preprocessed labels.\n",
    "    \"\"\"\n",
    "    labels = dataset.features[\"ner_tags\"].feature.names\n",
    "    return [[labels[index] for index in indices] for indices in dataset[\"ner_tags\"]]"
   ]
  },
  {
   "cell_type": "code",
   "execution_count": null,
   "id": "d520c53c-f8be-48a1-8484-1fafe81ad9a2",
   "metadata": {},
   "outputs": [],
   "source": [
    "sentences = featurize_dataset(dataset[\"train\"])\n",
    "labels = preprocess_labels(dataset[\"train\"])"
   ]
  },
  {
   "cell_type": "markdown",
   "id": "d957af6e-ed83-4d55-90de-522c94151814",
   "metadata": {},
   "source": [
    "## Training"
   ]
  },
  {
   "cell_type": "code",
   "execution_count": 7,
   "id": "f3c91063-ca98-4685-8dcb-c30c637efc4a",
   "metadata": {},
   "outputs": [],
   "source": [
    "model = chaine.train(sentences, labels, verbose=0)"
   ]
  },
  {
   "cell_type": "markdown",
   "id": "bf8fdc83-8a8e-4eaa-b4f1-0395194db40a",
   "metadata": {},
   "source": [
    "## Evaluation"
   ]
  },
  {
   "cell_type": "code",
   "execution_count": 8,
   "id": "a8c20257-3212-41bd-8018-b342b335acce",
   "metadata": {},
   "outputs": [],
   "source": [
    "sentences = featurize_dataset(dataset[\"test\"])\n",
    "labels = preprocess_labels(dataset[\"test\"])"
   ]
  },
  {
   "cell_type": "code",
   "execution_count": 9,
   "id": "a0309332-684d-460e-866a-92438ef5fb7f",
   "metadata": {},
   "outputs": [
    {
     "name": "stdout",
     "output_type": "stream",
     "text": [
      "              precision    recall  f1-score   support\n",
      "\n",
      "         LOC       0.67      0.65      0.66      1668\n",
      "        MISC       0.72      0.50      0.59       702\n",
      "         ORG       0.67      0.34      0.45      1661\n",
      "         PER       0.71      0.66      0.69      1617\n",
      "\n",
      "   micro avg       0.69      0.54      0.61      5648\n",
      "   macro avg       0.70      0.54      0.60      5648\n",
      "weighted avg       0.69      0.54      0.60      5648\n",
      "\n"
     ]
    }
   ],
   "source": [
    "predictions = model.predict(sentences)\n",
    "\n",
    "print(classification_report(labels, predictions))"
   ]
  },
  {
   "cell_type": "markdown",
   "id": "cfb319d4-9ce6-4a74-9792-17b8ae131c1e",
   "metadata": {},
   "source": [
    "## Optimization"
   ]
  },
  {
   "cell_type": "code",
   "execution_count": 10,
   "id": "1569a1f1-212c-4fc2-b8d3-b601b5aea88c",
   "metadata": {},
   "outputs": [],
   "source": [
    "model = chaine.train(sentences, labels, verbose=0, optimize_hyperparameters=True)"
   ]
  },
  {
   "cell_type": "code",
   "execution_count": 11,
   "id": "c409a14e-143d-4843-9b99-d4002e4e999b",
   "metadata": {},
   "outputs": [
    {
     "name": "stdout",
     "output_type": "stream",
     "text": [
      "              precision    recall  f1-score   support\n",
      "\n",
      "         LOC       0.94      0.91      0.92      1668\n",
      "        MISC       0.91      0.77      0.83       702\n",
      "         ORG       0.90      0.88      0.89      1661\n",
      "         PER       0.90      0.91      0.91      1617\n",
      "\n",
      "   micro avg       0.92      0.88      0.90      5648\n",
      "   macro avg       0.92      0.87      0.89      5648\n",
      "weighted avg       0.92      0.88      0.90      5648\n",
      "\n"
     ]
    }
   ],
   "source": [
    "predictions = model.predict(sentences)\n",
    "\n",
    "print(classification_report(labels, predictions))"
   ]
  },
  {
   "cell_type": "markdown",
   "id": "7a80185a-1546-463a-9795-f49bb43a2ba5",
   "metadata": {},
   "source": [
    "## Inspection"
   ]
  },
  {
   "cell_type": "code",
   "execution_count": 12,
   "id": "47c4eebc-d32d-4a5c-a452-caaff999a8b4",
   "metadata": {},
   "outputs": [
    {
     "data": {
      "text/html": [
       "<div>\n",
       "<style scoped>\n",
       "    .dataframe tbody tr th:only-of-type {\n",
       "        vertical-align: middle;\n",
       "    }\n",
       "\n",
       "    .dataframe tbody tr th {\n",
       "        vertical-align: top;\n",
       "    }\n",
       "\n",
       "    .dataframe thead th {\n",
       "        text-align: right;\n",
       "    }\n",
       "</style>\n",
       "<table border=\"1\" class=\"dataframe\">\n",
       "  <thead>\n",
       "    <tr style=\"text-align: right;\">\n",
       "      <th></th>\n",
       "      <th>from</th>\n",
       "      <th>to</th>\n",
       "      <th>weight</th>\n",
       "    </tr>\n",
       "  </thead>\n",
       "  <tbody>\n",
       "    <tr>\n",
       "      <th>12</th>\n",
       "      <td>B-PER</td>\n",
       "      <td>I-PER</td>\n",
       "      <td>8.655663</td>\n",
       "    </tr>\n",
       "    <tr>\n",
       "      <th>30</th>\n",
       "      <td>B-ORG</td>\n",
       "      <td>I-ORG</td>\n",
       "      <td>7.053397</td>\n",
       "    </tr>\n",
       "    <tr>\n",
       "      <th>33</th>\n",
       "      <td>I-ORG</td>\n",
       "      <td>I-ORG</td>\n",
       "      <td>6.440869</td>\n",
       "    </tr>\n",
       "    <tr>\n",
       "      <th>0</th>\n",
       "      <td>O</td>\n",
       "      <td>O</td>\n",
       "      <td>5.564141</td>\n",
       "    </tr>\n",
       "    <tr>\n",
       "      <th>3</th>\n",
       "      <td>O</td>\n",
       "      <td>B-MISC</td>\n",
       "      <td>5.456652</td>\n",
       "    </tr>\n",
       "    <tr>\n",
       "      <th>4</th>\n",
       "      <td>O</td>\n",
       "      <td>B-ORG</td>\n",
       "      <td>5.394471</td>\n",
       "    </tr>\n",
       "    <tr>\n",
       "      <th>22</th>\n",
       "      <td>B-MISC</td>\n",
       "      <td>I-MISC</td>\n",
       "      <td>5.257558</td>\n",
       "    </tr>\n",
       "    <tr>\n",
       "      <th>8</th>\n",
       "      <td>B-LOC</td>\n",
       "      <td>I-LOC</td>\n",
       "      <td>4.875593</td>\n",
       "    </tr>\n",
       "    <tr>\n",
       "      <th>2</th>\n",
       "      <td>O</td>\n",
       "      <td>B-PER</td>\n",
       "      <td>4.716164</td>\n",
       "    </tr>\n",
       "    <tr>\n",
       "      <th>1</th>\n",
       "      <td>O</td>\n",
       "      <td>B-LOC</td>\n",
       "      <td>4.539984</td>\n",
       "    </tr>\n",
       "  </tbody>\n",
       "</table>\n",
       "</div>"
      ],
      "text/plain": [
       "      from      to    weight\n",
       "12   B-PER   I-PER  8.655663\n",
       "30   B-ORG   I-ORG  7.053397\n",
       "33   I-ORG   I-ORG  6.440869\n",
       "0        O       O  5.564141\n",
       "3        O  B-MISC  5.456652\n",
       "4        O   B-ORG  5.394471\n",
       "22  B-MISC  I-MISC  5.257558\n",
       "8    B-LOC   I-LOC  4.875593\n",
       "2        O   B-PER  4.716164\n",
       "1        O   B-LOC  4.539984"
      ]
     },
     "execution_count": 12,
     "metadata": {},
     "output_type": "execute_result"
    }
   ],
   "source": [
    "transitions = pd.DataFrame(model.transitions)\n",
    "transitions.sort_values(\"weight\", ascending=False)[:10]"
   ]
  },
  {
   "cell_type": "code",
   "execution_count": 13,
   "id": "981bdfd2-65d5-4c2f-a3ba-6e351118d246",
   "metadata": {},
   "outputs": [
    {
     "data": {
      "text/html": [
       "<div>\n",
       "<style scoped>\n",
       "    .dataframe tbody tr th:only-of-type {\n",
       "        vertical-align: middle;\n",
       "    }\n",
       "\n",
       "    .dataframe tbody tr th {\n",
       "        vertical-align: top;\n",
       "    }\n",
       "\n",
       "    .dataframe thead th {\n",
       "        text-align: right;\n",
       "    }\n",
       "</style>\n",
       "<table border=\"1\" class=\"dataframe\">\n",
       "  <thead>\n",
       "    <tr style=\"text-align: right;\">\n",
       "      <th></th>\n",
       "      <th>feature</th>\n",
       "      <th>label</th>\n",
       "      <th>weight</th>\n",
       "    </tr>\n",
       "  </thead>\n",
       "  <tbody>\n",
       "    <tr>\n",
       "      <th>4385</th>\n",
       "      <td>token[-2:]:0M</td>\n",
       "      <td>O</td>\n",
       "      <td>5.749702</td>\n",
       "    </tr>\n",
       "    <tr>\n",
       "      <th>4386</th>\n",
       "      <td>token[-2:]:5M</td>\n",
       "      <td>O</td>\n",
       "      <td>5.541271</td>\n",
       "    </tr>\n",
       "    <tr>\n",
       "      <th>164</th>\n",
       "      <td>EOS</td>\n",
       "      <td>O</td>\n",
       "      <td>5.192606</td>\n",
       "    </tr>\n",
       "    <tr>\n",
       "      <th>214</th>\n",
       "      <td>+1:token.lower():1996-12-06</td>\n",
       "      <td>B-LOC</td>\n",
       "      <td>4.757576</td>\n",
       "    </tr>\n",
       "    <tr>\n",
       "      <th>215</th>\n",
       "      <td>+1:token.lower():1996-12-06</td>\n",
       "      <td>I-LOC</td>\n",
       "      <td>3.692241</td>\n",
       "    </tr>\n",
       "    <tr>\n",
       "      <th>3532</th>\n",
       "      <td>+1:token.lower():1996-12-07</td>\n",
       "      <td>B-LOC</td>\n",
       "      <td>3.504000</td>\n",
       "    </tr>\n",
       "    <tr>\n",
       "      <th>1658</th>\n",
       "      <td>-1:token.lower():b</td>\n",
       "      <td>B-PER</td>\n",
       "      <td>3.502818</td>\n",
       "    </tr>\n",
       "    <tr>\n",
       "      <th>23</th>\n",
       "      <td>token.isdigit()</td>\n",
       "      <td>O</td>\n",
       "      <td>3.362199</td>\n",
       "    </tr>\n",
       "    <tr>\n",
       "      <th>36</th>\n",
       "      <td>BOS</td>\n",
       "      <td>O</td>\n",
       "      <td>3.280833</td>\n",
       "    </tr>\n",
       "    <tr>\n",
       "      <th>1095</th>\n",
       "      <td>-1:token.lower():at</td>\n",
       "      <td>B-LOC</td>\n",
       "      <td>3.198786</td>\n",
       "    </tr>\n",
       "  </tbody>\n",
       "</table>\n",
       "</div>"
      ],
      "text/plain": [
       "                          feature  label    weight\n",
       "4385                token[-2:]:0M      O  5.749702\n",
       "4386                token[-2:]:5M      O  5.541271\n",
       "164                           EOS      O  5.192606\n",
       "214   +1:token.lower():1996-12-06  B-LOC  4.757576\n",
       "215   +1:token.lower():1996-12-06  I-LOC  3.692241\n",
       "3532  +1:token.lower():1996-12-07  B-LOC  3.504000\n",
       "1658           -1:token.lower():b  B-PER  3.502818\n",
       "23                token.isdigit()      O  3.362199\n",
       "36                            BOS      O  3.280833\n",
       "1095          -1:token.lower():at  B-LOC  3.198786"
      ]
     },
     "execution_count": 13,
     "metadata": {},
     "output_type": "execute_result"
    }
   ],
   "source": [
    "states = pd.DataFrame(model.states)\n",
    "states.sort_values(\"weight\", ascending=False)[:10]"
   ]
  }
 ],
 "metadata": {
  "kernelspec": {
   "display_name": "Python 3 (ipykernel)",
   "language": "python",
   "name": "python3"
  },
  "language_info": {
   "codemirror_mode": {
    "name": "ipython",
    "version": 3
   },
   "file_extension": ".py",
   "mimetype": "text/x-python",
   "name": "python",
   "nbconvert_exporter": "python",
   "pygments_lexer": "ipython3",
   "version": "3.10.3"
  }
 },
 "nbformat": 4,
 "nbformat_minor": 5
}
