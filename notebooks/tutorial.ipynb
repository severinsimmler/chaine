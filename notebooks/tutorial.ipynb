{
 "cells": [
  {
   "cell_type": "markdown",
   "metadata": {},
   "source": [
    "# Named entity recognition with `chaine`\n",
    "\n",
    "Make sure you have installed the additional dependencies for this tutorial:\n",
    "\n",
    "```\n",
    "$ pip install datasets seqeval\n",
    "```\n"
   ]
  },
  {
   "cell_type": "code",
   "execution_count": 1,
   "metadata": {},
   "outputs": [],
   "source": [
    "import chaine\n",
    "import datasets\n",
    "import seqeval"
   ]
  },
  {
   "cell_type": "markdown",
   "metadata": {},
   "source": [
    "## Loading a dataset"
   ]
  },
  {
   "cell_type": "code",
   "execution_count": 2,
   "metadata": {},
   "outputs": [],
   "source": [
    "dataset = datasets.load_dataset(\"germeval_14\")"
   ]
  },
  {
   "cell_type": "code",
   "execution_count": 3,
   "metadata": {},
   "outputs": [
    {
     "name": "stdout",
     "output_type": "stream",
     "text": [
      "Sequence: ['Schartau', 'sagte', 'dem', '\"', 'Tagesspiegel', '\"', 'vom', 'Freitag', ',', 'Fischer']\n",
      "Labels: [19, 0, 0, 0, 7, 0, 0, 0, 0, 19]\n"
     ]
    }
   ],
   "source": [
    "print(f\"Sequence: {dataset['train']['tokens'][0][:10]}\")\n",
    "print(f\"Labels: {dataset['train']['ner_tags'][0][:10]}\")"
   ]
  },
  {
   "cell_type": "markdown",
   "metadata": {},
   "source": [
    "## Training a model using the high-level API"
   ]
  },
  {
   "cell_type": "code",
   "execution_count": 4,
   "metadata": {},
   "outputs": [
    {
     "name": "stdout",
     "output_type": "stream",
     "text": [
      "Loading data\n",
      "Start training\n",
      "Iteration: 1\tLoss: 502695.489924\n",
      "Iteration: 2\tLoss: 333000.346260\n",
      "Iteration: 3\tLoss: 263302.155887\n",
      "Iteration: 4\tLoss: 245102.656124\n",
      "Iteration: 5\tLoss: 235361.327211\n",
      "Iteration: 6\tLoss: 221099.251163\n",
      "Iteration: 7\tLoss: 202193.305190\n",
      "Iteration: 8\tLoss: 188116.470032\n",
      "Iteration: 9\tLoss: 178454.639568\n",
      "Iteration: 10\tLoss: 175687.765839\n"
     ]
    }
   ],
   "source": [
    "crf = chaine.train(dataset[\"train\"][\"tokens\"], dataset[\"train\"][\"ner_tags\"], max_iterations=10)"
   ]
  },
  {
   "cell_type": "markdown",
   "metadata": {},
   "source": [
    "## Evaluating the model"
   ]
  },
  {
   "cell_type": "code",
   "execution_count": 5,
   "metadata": {},
   "outputs": [],
   "source": [
    "features = [chaine.featurize(sequence) for sequence in dataset[\"test\"][\"tokens\"]]"
   ]
  },
  {
   "cell_type": "code",
   "execution_count": 6,
   "metadata": {},
   "outputs": [],
   "source": [
    "predictions = [crf.predict(sequence) for sequence in features]"
   ]
  }
 ],
 "metadata": {
  "kernelspec": {
   "display_name": "Python 3",
   "language": "python",
   "name": "python3"
  },
  "language_info": {
   "codemirror_mode": {
    "name": "ipython",
    "version": 3
   },
   "file_extension": ".py",
   "mimetype": "text/x-python",
   "name": "python",
   "nbconvert_exporter": "python",
   "pygments_lexer": "ipython3",
   "version": "3.8.6"
  }
 },
 "nbformat": 4,
 "nbformat_minor": 4
}
