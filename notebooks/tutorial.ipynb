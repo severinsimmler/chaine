{
 "cells": [
  {
   "cell_type": "markdown",
   "metadata": {},
   "source": [
    "# Named entity recognition"
   ]
  },
  {
   "cell_type": "code",
   "execution_count": 1,
   "metadata": {},
   "outputs": [],
   "source": [
    "import chaine"
   ]
  },
  {
   "cell_type": "code",
   "execution_count": 2,
   "metadata": {},
   "outputs": [],
   "source": [
    "tokens = [[\"John\", \"Lennon\", \"was\", \"rhythm\", \"guitarist\" \"of\", \"The\", \"Beatles\", \".\"]]\n",
    "labels = [[\"B-PER\", \"I-PER\", \"O\", \"O\", \"O\" \"O\", \"B-ORG\", \"I-ORG\", \"O\"]]"
   ]
  },
  {
   "cell_type": "code",
   "execution_count": 3,
   "metadata": {},
   "outputs": [
    {
     "name": "stdout",
     "output_type": "stream",
     "text": [
      "[2020-12-06 23:50:12,783] [INFO] Loading data\n",
      "[2020-12-06 23:50:12,785] [INFO] Start training\n",
      "[2020-12-06 23:50:12,789] [INFO] Iteration: 1\tLoss: 14.334076\n",
      "[2020-12-06 23:50:12,792] [INFO] Iteration: 2\tLoss: 14.334064\n",
      "[2020-12-06 23:50:12,793] [INFO] Iteration: 3\tLoss: 14.334053\n",
      "[2020-12-06 23:50:12,794] [INFO] Iteration: 4\tLoss: 14.334041\n",
      "[2020-12-06 23:50:12,796] [INFO] Iteration: 5\tLoss: 14.334029\n"
     ]
    }
   ],
   "source": [
    "crf = chaine.train(tokens, labels, max_iterations=5)"
   ]
  },
  {
   "cell_type": "code",
   "execution_count": 4,
   "metadata": {},
   "outputs": [
    {
     "data": {
      "text/plain": [
       "[['I-PER', 'I-PER', 'O', 'O', 'OO', 'B-ORG', 'I-ORG', 'O']]"
      ]
     },
     "execution_count": 4,
     "metadata": {},
     "output_type": "execute_result"
    }
   ],
   "source": [
    "crf.predict(tokens)"
   ]
  },
  {
   "cell_type": "markdown",
   "metadata": {},
   "source": [
    "## Feature extraction\n",
    "\n",
    "```\n",
    "identity of wi, identity of neighboring words\n",
    "embeddings for wi, embeddings for neighboring words\n",
    "part of speech of wi, part of speech of neighboring words\n",
    "base-phrase syntactic chunk label of wi and neighboring words\n",
    "presence of wi in a gazetteer\n",
    "wi contains a particular prefix (from all prefixes of length ≤ 4)\n",
    "wi contains a particular suffix (from all suffixes of length ≤ 4)\n",
    "wi is all upper case\n",
    "word shape of wi, word shape of neighboring words\n",
    "short word shape of wi, short word shape of neighboring words\n",
    "presence of hyphen\n",
    "```"
   ]
  }
 ],
 "metadata": {
  "kernelspec": {
   "display_name": "Python 3",
   "language": "python",
   "name": "python3"
  },
  "language_info": {
   "codemirror_mode": {
    "name": "ipython",
    "version": 3
   },
   "file_extension": ".py",
   "mimetype": "text/x-python",
   "name": "python",
   "nbconvert_exporter": "python",
   "pygments_lexer": "ipython3",
   "version": "3.8.6"
  }
 },
 "nbformat": 4,
 "nbformat_minor": 4
}
