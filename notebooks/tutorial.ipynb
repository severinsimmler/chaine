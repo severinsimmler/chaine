{
 "cells": [
  {
   "cell_type": "markdown",
   "metadata": {},
   "source": [
    "# Named entity recognition with `chaine`\n",
    "\n",
    "Make sure you have installed the additional dependencies for this tutorial:\n",
    "\n",
    "```\n",
    "$ pip install datasets scikit-learn\n",
    "```\n"
   ]
  },
  {
   "cell_type": "code",
   "execution_count": 3,
   "metadata": {},
   "outputs": [],
   "source": [
    "import chaine\n",
    "import datasets"
   ]
  },
  {
   "cell_type": "code",
   "execution_count": 2,
   "metadata": {},
   "outputs": [
    {
     "name": "stdout",
     "output_type": "stream",
     "text": [
      "Help on package chaine:\n",
      "\n",
      "NAME\n",
      "    chaine\n",
      "\n",
      "PACKAGE CONTENTS\n",
      "    core\n",
      "    data\n",
      "    model\n",
      "    typing\n",
      "    utils\n",
      "\n",
      "FILE\n",
      "    /home/severin/git/chaine/chaine/__init__.py\n",
      "\n",
      "\n"
     ]
    }
   ],
   "source": [
    "help(chaine)"
   ]
  }
 ],
 "metadata": {
  "kernelspec": {
   "display_name": "Python 3",
   "language": "python",
   "name": "python3"
  },
  "language_info": {
   "codemirror_mode": {
    "name": "ipython",
    "version": 3
   },
   "file_extension": ".py",
   "mimetype": "text/x-python",
   "name": "python",
   "nbconvert_exporter": "python",
   "pygments_lexer": "ipython3",
   "version": "3.8.6"
  }
 },
 "nbformat": 4,
 "nbformat_minor": 4
}
